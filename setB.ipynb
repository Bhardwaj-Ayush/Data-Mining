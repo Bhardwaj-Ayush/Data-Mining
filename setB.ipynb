{
 "cells": [
  {
   "cell_type": "code",
   "execution_count": null,
   "metadata": {},
   "outputs": [],
   "source": [
    "import pandas as pd\n",
    "\n",
    "# i. Read the data from the file \"people.txt\"\n",
    "filename = \"people.txt\"\n",
    "data = pd.read_csv(filename)\n",
    "\n",
    "# ii. Create a ruleset E\n",
    "ruleset_E = [\n",
    "    \"Age should be in the range 0-150.\",\n",
    "    \"Age should be greater than years married.\",\n",
    "    \"Status should be married, single, or widowed.\",\n",
    "    \"If age is less than 18, the age group should be child. If age is between 18 and 65, the age group should be adult. If age is more than 65, the age group should be elderly.\"\n",
    "]\n",
    "\n",
    "# iii. Check whether ruleset E is violated by the data in the file people.txt\n",
    "\n",
    "# Rule a: The age should be in the range 0-150\n",
    "violated_rule_a = (data['Age'] < 0) | (data['Age'] > 150)\n",
    "\n",
    "# Rule b: The age should be greater than years married\n",
    "violated_rule_b = data['Age'] <= data['Years Married']\n",
    "\n",
    "# Rule c: The status should be married, single, or widowed\n",
    "violated_rule_c = ~data['Status'].isin(['married', 'single', 'widowed'])\n",
    "\n",
    "# Rule d: Determine age group\n",
    "age_group_conditions = [\n",
    "    (data['Age'] < 18) & (data['Age Group'] != 'child'),\n",
    "    ((data['Age'] >= 18) & (data['Age'] <= 65)) & (data['Age Group'] != 'adult'),\n",
    "    (data['Age'] > 65) & (data['Age Group'] != 'elderly')\n",
    "]\n",
    "violated_rule_d = [condition.any() for condition in age_group_conditions]\n",
    "\n",
    "# iv. Summarize the results\n",
    "violated_rules = {\n",
    "    'Rule a': violated_rule_a,\n",
    "    'Rule b': violated_rule_b,\n",
    "    'Rule c': violated_rule_c,\n",
    "    'Rule d': violated_rule_d\n",
    "}\n",
    "\n",
    "print(\"Violated Rules:\")\n",
    "for rule, violated in violated_rules.items():\n",
    "    if violated.any():\n",
    "        print(f\"{rule}: {violated.sum()} instances violated.\")\n",
    "\n",
    "# v. Visualize the results\n",
    "if any(violated_rules.values()):\n",
    "    print(\"\\nVisualization of Violated Rules:\")\n",
    "    for rule, violated in violated_rules.items():\n",
    "        if violated.any():\n",
    "            print(f\"{rule}: {violated.sum()} instances violated.\")\n",
    "else:\n",
    "    print(\"No rules are violated.\")\n"
   ]
  }
 ],
 "metadata": {
  "kernelspec": {
   "display_name": "Python 3",
   "language": "python",
   "name": "python3"
  },
  "language_info": {
   "codemirror_mode": {
    "name": "ipython",
    "version": 3
   },
   "file_extension": ".py",
   "mimetype": "text/x-python",
   "name": "python",
   "nbconvert_exporter": "python",
   "pygments_lexer": "ipython3",
   "version": "3.11.9"
  }
 },
 "nbformat": 4,
 "nbformat_minor": 2
}
