{
 "cells": [
  {
   "cell_type": "code",
   "execution_count": null,
   "metadata": {},
   "outputs": [],
   "source": [
    "from sklearn.cluster import AgglomerativeClustering,DBSCAN\n",
    "from sklearn.datasets import load_iris"
   ]
  },
  {
   "cell_type": "code",
   "execution_count": null,
   "metadata": {},
   "outputs": [],
   "source": [
    "iris = load_iris()\n",
    "\n",
    "x = iris.data"
   ]
  },
  {
   "cell_type": "code",
   "execution_count": null,
   "metadata": {},
   "outputs": [],
   "source": [
    "HC = AgglomerativeClustering()\n",
    "\n",
    "HC.fit(x)"
   ]
  },
  {
   "cell_type": "code",
   "execution_count": null,
   "metadata": {},
   "outputs": [],
   "source": [
    "HC.labels_"
   ]
  },
  {
   "cell_type": "code",
   "execution_count": null,
   "metadata": {},
   "outputs": [],
   "source": [
    "from sklearn.cluster import DBSCAN, AgglomerativeClustering\n",
    "from sklearn.datasets import load_iris\n",
    "from sklearn.metrics import silhouette_score\n",
    "\n",
    "# Load Iris dataset\n",
    "iris = load_iris()\n",
    "X = iris.data\n",
    "\n",
    "# DBSCAN clustering with varying parameters\n",
    "eps_values = [0.3, 0.4, 0.5]\n",
    "min_samples_values = [2, 3, 4]\n",
    "for eps in eps_values:\n",
    "    for min_samples in min_samples_values:\n",
    "        dbscan = DBSCAN(eps=eps, min_samples=min_samples)\n",
    "        dbscan_labels = dbscan.fit_predict(X)\n",
    "        silhouette = silhouette_score(X, dbscan_labels)\n",
    "        print(f\"DBSCAN with eps={eps}, min_samples={min_samples}: Silhouette score = {silhouette}\")\n",
    "\n",
    "# Hierarchical clustering with varying number of clusters\n",
    "n_clusters_values = [2, 3, 4]\n",
    "for n_clusters in n_clusters_values:\n",
    "    hierarchical = AgglomerativeClustering(n_clusters=n_clusters)\n",
    "    hierarchical_labels = hierarchical.fit_predict(X)\n",
    "    silhouette = silhouette_score(X, hierarchical_labels)\n",
    "    print(f\"Hierarchical clustering with n_clusters={n_clusters}: Silhouette score = {silhouette}\")\n"
   ]
  }
 ],
 "metadata": {
  "kernelspec": {
   "display_name": "Python 3",
   "language": "python",
   "name": "python3"
  },
  "language_info": {
   "codemirror_mode": {
    "name": "ipython",
    "version": 3
   },
   "file_extension": ".py",
   "mimetype": "text/x-python",
   "name": "python",
   "nbconvert_exporter": "python",
   "pygments_lexer": "ipython3",
   "version": "3.11.9"
  }
 },
 "nbformat": 4,
 "nbformat_minor": 2
}
