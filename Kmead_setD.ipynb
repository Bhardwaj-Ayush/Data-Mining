{
 "cells": [
  {
   "cell_type": "code",
   "execution_count": null,
   "metadata": {},
   "outputs": [],
   "source": [
    "from sklearn.cluster import KMeans,DBSCAN\n",
    "from sklearn.datasets import load_iris"
   ]
  },
  {
   "cell_type": "code",
   "execution_count": null,
   "metadata": {},
   "outputs": [],
   "source": [
    "iris = load_iris()\n",
    "\n",
    "x = iris.data"
   ]
  },
  {
   "cell_type": "code",
   "execution_count": null,
   "metadata": {},
   "outputs": [],
   "source": [
    "kmeans = KMeans(n_clusters=2)\n",
    "\n",
    "kmeans.fit(x)"
   ]
  },
  {
   "cell_type": "code",
   "execution_count": null,
   "metadata": {},
   "outputs": [],
   "source": [
    "dbscan = DBSCAN(eps=0.5)\n",
    "dbscan.fit(x)"
   ]
  },
  {
   "cell_type": "code",
   "execution_count": null,
   "metadata": {},
   "outputs": [],
   "source": [
    "kmeans.cluster_centers_\n",
    "\n",
    "kmeans.labels_"
   ]
  },
  {
   "cell_type": "code",
   "execution_count": null,
   "metadata": {},
   "outputs": [],
   "source": [
    "dbscan.labels_"
   ]
  },
  {
   "cell_type": "code",
   "execution_count": null,
   "metadata": {},
   "outputs": [],
   "source": [
    "from sklearn.cluster import KMeans, DBSCAN\n",
    "from sklearn.datasets import load_iris\n",
    "from sklearn.metrics import silhouette_score, davies_bouldin_score\n",
    "\n",
    "# Load Iris dataset\n",
    "iris = load_iris()\n",
    "X = iris.data\n",
    "\n",
    "# Define a range of parameters to experiment with\n",
    "num_clusters_range = range(2, 6)  # Number of clusters for K-means\n",
    "eps_range = [0.3, 0.4, 0.5, 0.6, 0.7]  # Epsilon for DBSCAN\n",
    "min_samples_range = [3, 4, 5, 6, 7]  # Min samples for DBSCAN\n",
    "\n",
    "# Results storage\n",
    "kmeans_results = {}\n",
    "dbscan_results = {}\n",
    "\n",
    "# K-means clustering\n",
    "for k in num_clusters_range:\n",
    "    kmeans = KMeans(n_clusters=k, random_state=42)\n",
    "    kmeans.fit(X)\n",
    "    silhouette = silhouette_score(X, kmeans.labels_)\n",
    "    db_score = davies_bouldin_score(X, kmeans.labels_)\n",
    "    kmeans_results[k] = {'silhouette_score': silhouette, 'davies_bouldin_score': db_score}\n",
    "\n",
    "# DBSCAN clustering\n",
    "for eps in eps_range:\n",
    "    for min_samples in min_samples_range:\n",
    "        dbscan = DBSCAN(eps=eps, min_samples=min_samples)\n",
    "        dbscan.fit(X)\n",
    "        if len(set(dbscan.labels_)) > 1:  # Skip if only noise points are detected\n",
    "            silhouette = silhouette_score(X, dbscan.labels_)\n",
    "            db_score = davies_bouldin_score(X, dbscan.labels_)\n",
    "            dbscan_results[(eps, min_samples)] = {'silhouette_score': silhouette, 'davies_bouldin_score': db_score}\n",
    "\n",
    "# Print results\n",
    "print(\"K-means Results:\")\n",
    "for k, metrics in kmeans_results.items():\n",
    "    print(f\"Number of clusters: {k}, Silhouette score: {metrics['silhouette_score']}, Davies-Bouldin index: {metrics['davies_bouldin_score']}\")\n",
    "\n",
    "print(\"\\nDBSCAN Results:\")\n",
    "for params, metrics in dbscan_results.items():\n",
    "    print(f\"Epsilon: {params[0]}, Min Samples: {params[1]}, Silhouette score: {metrics['silhouette_score']}, Davies-Bouldin index: {metrics['davies_bouldin_score']}\")\n"
   ]
  }
 ],
 "metadata": {
  "kernelspec": {
   "display_name": "Python 3",
   "language": "python",
   "name": "python3"
  },
  "language_info": {
   "codemirror_mode": {
    "name": "ipython",
    "version": 3
   },
   "file_extension": ".py",
   "mimetype": "text/x-python",
   "name": "python",
   "nbconvert_exporter": "python",
   "pygments_lexer": "ipython3",
   "version": "3.11.9"
  }
 },
 "nbformat": 4,
 "nbformat_minor": 2
}
